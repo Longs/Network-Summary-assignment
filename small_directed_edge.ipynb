{
 "cells": [
  {
   "cell_type": "code",
   "execution_count": 1,
   "metadata": {},
   "outputs": [
    {
     "name": "stdout",
     "output_type": "stream",
     "text": [
      "[ 0  0  0 ... 99 99 99]\n",
      "[ 3 10 12 ... 77 81 85]\n",
      "no of nodes (100, 100)\n",
      "no of edges 1030\n",
      "Has self loops: True\n"
     ]
    }
   ],
   "source": [
    "import numpy as np\n",
    "from scipy.sparse import coo_matrix \n",
    "\n",
    "cell_index = np.genfromtxt(\"release_directed_graph.txt\",delimiter=\" \",dtype=int)\n",
    "\n",
    "#NO to construct a coo matrix you need data, [row indices]\n",
    "data = np.ones(len(cell_index))\n",
    "\n",
    "row = cell_index[:,0]\n",
    "col = cell_index[:,1]\n",
    "print(row)\n",
    "print(col)\n",
    "\n",
    "sparse_matrix = coo_matrix((data,(row,col))).tocsr()\n",
    "#sparse_matrix = coo_matrix(data,(row,col)).tocsr()\n",
    "#print(sparse_matrix.shape)\n",
    "print(f\"no of nodes {sparse_matrix.shape}\")\n",
    "print(f\"no of edges {sparse_matrix.count_nonzero()}\")\n",
    "#diagonal = sum(sparse_matrix.diagonal())\n",
    "#print(diagonal)\n",
    "has_self_loops = np.any(sparse_matrix.diagonal() > 0)\n",
    "print(f\"Has self loops: {has_self_loops}\")"
   ]
  },
  {
   "cell_type": "code",
   "execution_count": 10,
   "metadata": {},
   "outputs": [
    {
     "name": "stdout",
     "output_type": "stream",
     "text": [
      "Has cycles: True\n"
     ]
    }
   ],
   "source": [
    "#NB following code is incorrect .power is element-wise power NOT matrix multiplication!\n",
    "#p10d = sparse_matrix.power(100).diagonal()\n",
    "\n",
    "p100= sparse_matrix**100 #Need to take the matrix to the power required\n",
    "p100d = p100.diagonal()\n",
    "has_cycles = np.any(p100d > 1)\n",
    "print(f\"Has cycles: {has_cycles}\")"
   ]
  },
  {
   "cell_type": "code",
   "execution_count": 3,
   "metadata": {},
   "outputs": [
    {
     "name": "stdout",
     "output_type": "stream",
     "text": [
      "probability is edge density: 0.10404040404040404\n",
      "probability is edge density: 0.103\n"
     ]
    }
   ],
   "source": [
    "#fixed nodes, every possible edge constructed with p\n",
    "#probability will be edge density\n",
    "\n",
    "E = sparse_matrix.count_nonzero()\n",
    "V = sparse_matrix.shape[0]\n",
    "\n",
    "print(f\"probability is edge density: {E/(V*(V-1))}\")\n",
    "#NO Can have self loops so \n",
    "print(f\"probability is edge density: {E/(V*V)}\")"
   ]
  },
  {
   "cell_type": "code",
   "execution_count": 4,
   "metadata": {},
   "outputs": [
    {
     "name": "stdout",
     "output_type": "stream",
     "text": [
      "no of possible edges: 10000\n",
      "1.0\n",
      "0.31731050786291415\n"
     ]
    }
   ],
   "source": [
    "from scipy.stats import norm\n",
    "#TODO: Q 6\n",
    "#Observed value\n",
    "#null hp = mean = 0.1. SD under null hypothesis\n",
    "#Binomial so sd can be caclutaed\n",
    "\n",
    "#Null hypothesis is binomial E 0.1\n",
    "trials = V*(V) #self loops allowed\n",
    "print(f\"no of possible edges: {trials}\")\n",
    "null_sd = np.sqrt(trials*0.1*0.9)\n",
    "null_mean = trials*0.1\n",
    "\n",
    "test_statisic = (np.abs(E-null_mean))/null_sd\n",
    "print(f\"{test_statisic}\")\n",
    "\n",
    "#Needs to be 2 SIDED\n",
    "print(2*norm.sf(test_statisic))\n",
    "\n",
    "#one-sided or 2 sided?\n",
    "#which function?\n",
    "#Their calculation: numerator  = \n",
    "\n"
   ]
  }
 ],
 "metadata": {
  "interpreter": {
   "hash": "5ed39076ecfbffa891efe79264807416f295022aa7d1a440cb7ae539f3f89c6d"
  },
  "kernelspec": {
   "display_name": "Python 3.8.8 64-bit ('PandasNumpyMathplotlib': conda)",
   "language": "python",
   "name": "python3"
  },
  "language_info": {
   "codemirror_mode": {
    "name": "ipython",
    "version": 3
   },
   "file_extension": ".py",
   "mimetype": "text/x-python",
   "name": "python",
   "nbconvert_exporter": "python",
   "pygments_lexer": "ipython3",
   "version": "3.8.8"
  },
  "orig_nbformat": 4
 },
 "nbformat": 4,
 "nbformat_minor": 2
}
