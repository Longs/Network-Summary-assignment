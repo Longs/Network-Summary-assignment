{
 "cells": [
  {
   "cell_type": "code",
   "execution_count": 44,
   "metadata": {},
   "outputs": [
    {
     "name": "stdout",
     "output_type": "stream",
     "text": [
      "[ 0  0  0 ... 99 99 99]\n",
      "[ 3 10 12 ... 77 81 85]\n",
      "no of nodes (100, 100)\n",
      "no of edges 1030\n",
      "Has self loops: True\n"
     ]
    }
   ],
   "source": [
    "import numpy as np\n",
    "from scipy.sparse import coo_matrix \n",
    "\n",
    "cell_index = np.genfromtxt(\"release_directed_graph.txt\",delimiter=\" \",dtype=int)\n",
    "\n",
    "#NO to construct a coo matrix you need data, [row indices]\n",
    "data = np.ones(len(cell_index))\n",
    "\n",
    "row = cell_index[:,0]\n",
    "col = cell_index[:,1]\n",
    "print(row)\n",
    "print(col)\n",
    "\n",
    "sparse_matrix = coo_matrix((data,(row,col))).tocsr()\n",
    "#sparse_matrix = coo_matrix(data,(row,col)).tocsr()\n",
    "#print(sparse_matrix.shape)\n",
    "print(f\"no of nodes {sparse_matrix.shape}\")\n",
    "print(f\"no of edges {sparse_matrix.count_nonzero()}\")\n",
    "#diagonal = sum(sparse_matrix.diagonal())\n",
    "#print(diagonal)\n",
    "has_self_loops = np.any(sparse_matrix.diagonal() > 0)\n",
    "print(f\"Has self loops: {has_self_loops}\")"
   ]
  },
  {
   "cell_type": "code",
   "execution_count": 49,
   "metadata": {},
   "outputs": [
    {
     "name": "stdout",
     "output_type": "stream",
     "text": [
      "Has cycles: False\n"
     ]
    }
   ],
   "source": [
    "p10d = sparse_matrix.power(100).diagonal()\n",
    "has_cycles = np.any(p10d > 1)\n",
    "print(f\"Has cycles: {has_cycles}\")"
   ]
  },
  {
   "cell_type": "code",
   "execution_count": null,
   "metadata": {},
   "outputs": [],
   "source": []
  }
 ],
 "metadata": {
  "interpreter": {
   "hash": "5ed39076ecfbffa891efe79264807416f295022aa7d1a440cb7ae539f3f89c6d"
  },
  "kernelspec": {
   "display_name": "Python 3.8.8 64-bit ('PandasNumpyMathplotlib': conda)",
   "language": "python",
   "name": "python3"
  },
  "language_info": {
   "codemirror_mode": {
    "name": "ipython",
    "version": 3
   },
   "file_extension": ".py",
   "mimetype": "text/x-python",
   "name": "python",
   "nbconvert_exporter": "python",
   "pygments_lexer": "ipython3",
   "version": "3.8.8"
  },
  "orig_nbformat": 4
 },
 "nbformat": 4,
 "nbformat_minor": 2
}
