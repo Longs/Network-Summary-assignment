{
 "cells": [
  {
   "cell_type": "code",
   "execution_count": 3,
   "metadata": {},
   "outputs": [],
   "source": [
    "import numpy as np\n",
    "\n",
    "A = [[0, 1, 0, 1, 0, 1, 0, 0, 0, 0],\n",
    "\t[1, 0, 1, 1, 1, 0, 0, 0, 0, 0],\n",
    "\t[0, 1, 0, 0, 0, 0, 0, 0, 0, 0],\n",
    "\t[1, 1, 0, 0, 0, 1, 0, 1, 1, 0],\n",
    "\t[0, 1, 0, 0, 0, 0, 0, 0, 1, 1],\n",
    "\t[1, 0, 0, 1, 0, 0, 0, 0, 0, 0],\n",
    "\t[0, 0, 0, 0, 0, 0, 0, 0, 0, 1],\n",
    "\t[0, 0, 0, 1, 0, 0, 0, 0, 0, 0],\n",
    "\t[0, 0, 0, 1, 1, 0, 0, 0, 0, 1],\n",
    "\t[0, 0, 0, 0, 1, 0, 1, 0, 1, 0]]\n",
    "\n",
    "\n"
   ]
  },
  {
   "cell_type": "code",
   "execution_count": 4,
   "metadata": {},
   "outputs": [
    {
     "name": "stdout",
     "output_type": "stream",
     "text": [
      "True\n"
     ]
    }
   ],
   "source": [
    "#1. Does the adjacency matrix represent a simple graph?\n",
    "simple = np.max(A) == 1\n",
    "print(simple)"
   ]
  },
  {
   "cell_type": "code",
   "execution_count": 5,
   "metadata": {},
   "outputs": [
    {
     "name": "stdout",
     "output_type": "stream",
     "text": [
      "True\n"
     ]
    }
   ],
   "source": [
    "#2. Can the adjacency matrix potentially represent an undirected graph?\n",
    "#Undirected graph has symmetric adjacency matrix\n",
    "#TODO: find a more efficient check for large, sparse matrix\n",
    "A_T = np.transpose(A)\n",
    "print(np.all(A-A_T) == 0)"
   ]
  },
  {
   "cell_type": "code",
   "execution_count": 9,
   "metadata": {},
   "outputs": [
    {
     "name": "stdout",
     "output_type": "stream",
     "text": [
      "[[0, 1, 0, 1, 0, 1, 0, 0, 0, 0], [1, 0, 1, 1, 1, 0, 0, 0, 0, 0], [0, 1, 0, 0, 0, 0, 0, 0, 0, 0], [1, 1, 0, 0, 0, 1, 0, 1, 1, 0], [0, 1, 0, 0, 0, 0, 0, 0, 1, 1], [1, 0, 0, 1, 0, 0, 0, 0, 0, 0], [0, 0, 0, 0, 0, 0, 0, 0, 0, 1], [0, 0, 0, 1, 0, 0, 0, 0, 0, 0], [0, 0, 0, 1, 1, 0, 0, 0, 0, 1], [0, 0, 0, 0, 1, 0, 1, 0, 1, 0]]\n",
      "[[4600 5244 1558 5939 3578 3489  814 1978 4001 2679]\n",
      " [5244 4940 2070 7340 4609 3395  955 1837 3889 2973]\n",
      " [1558 2070  448 1837 1097 1337  292  791 1584  955]\n",
      " [5939 7340 1837 7162 4367 4810 1123 2832 5694 3483]\n",
      " [3578 4609 1097 4367 2760 2948  744 1739 3643 2336]\n",
      " [3489 3395 1337 4810 2948 2334  601 1270 2613 1937]\n",
      " [ 814  955  292 1123  744  601  182  337  776  605]\n",
      " [1978 1837  791 2832 1739 1270  337  670 1407 1123]\n",
      " [4001 3889 1584 5694 3643 2613  776 1407 3102 2472]\n",
      " [2679 2973  955 3483 2336 1937  605 1123 2472 1702]]\n",
      "True\n"
     ]
    }
   ],
   "source": [
    "#3. Is the graph connected?\n",
    "#IE is there a path between every component\n",
    "#10 nodes so max path length = 9\n",
    "#TODO: consider a more efficient method for sparse matrices\n",
    "print(A)\n",
    "\n",
    "B = np.linalg.matrix_power(A,9)\n",
    "#print(B)\n",
    "print(np.all(B) > 0)\n"
   ]
  },
  {
   "cell_type": "code",
   "execution_count": 10,
   "metadata": {},
   "outputs": [
    {
     "name": "stdout",
     "output_type": "stream",
     "text": [
      "minimum l is 4\n"
     ]
    }
   ],
   "source": [
    "#4. What is the minimum l such that A^l  contains no entry equal to 0 If such an l does not exist, then enter -1\n",
    "#TODO: this will be inefficient for large matrices\n",
    "for _ in range(2,9):\n",
    "    if np.all(np.linalg.matrix_power(A,_) > 0):\n",
    "        print (f\"minimum l is {_}\")\n",
    "        break"
   ]
  },
  {
   "cell_type": "code",
   "execution_count": 11,
   "metadata": {},
   "outputs": [
    {
     "name": "stdout",
     "output_type": "stream",
     "text": [
      "1 since all nodes can be reached within 4 steps\n"
     ]
    }
   ],
   "source": [
    "#5. How many connected components does the graph have?\n",
    "print(\"1 since all nodes can be reached within 4 steps\")"
   ]
  },
  {
   "cell_type": "code",
   "execution_count": 12,
   "metadata": {},
   "outputs": [
    {
     "name": "stdout",
     "output_type": "stream",
     "text": [
      "3\n",
      "4\n",
      "1\n",
      "5\n",
      "3\n",
      "2\n",
      "1\n",
      "1\n",
      "3\n",
      "3\n"
     ]
    }
   ],
   "source": [
    "#6. What is the maximum degree of a node in the graph?\n",
    "for row in A:\n",
    "    print(np.sum(row))"
   ]
  },
  {
   "cell_type": "code",
   "execution_count": 16,
   "metadata": {},
   "outputs": [
    {
     "name": "stdout",
     "output_type": "stream",
     "text": [
      "46\n"
     ]
    }
   ],
   "source": [
    "#7 How many walks of length 5 are there from node 0 (represented by first row/column) to itself?\n",
    "print(np.linalg.matrix_power(A,5)[0,0])"
   ]
  },
  {
   "cell_type": "code",
   "execution_count": 14,
   "metadata": {},
   "outputs": [
    {
     "name": "stdout",
     "output_type": "stream",
     "text": [
      "True since for undirected graph adjacency matrix is symmetrical so Aii = dot product of row i = sum of 1s in the row\n"
     ]
    }
   ],
   "source": [
    "#8. Is the following statement True or False? “For an undirected graph, that is not weighted or a multigraph, the diagonal entries of A^2 are equal to the degree of the nodes.\"\n",
    "print(\"True since for undirected graph adjacency matrix is symmetrical so Aii = dot product of row i = sum of 1s in the row\")"
   ]
  }
 ],
 "metadata": {
  "interpreter": {
   "hash": "5ed39076ecfbffa891efe79264807416f295022aa7d1a440cb7ae539f3f89c6d"
  },
  "kernelspec": {
   "display_name": "Python 3.8.8 64-bit ('PandasNumpyMathplotlib': conda)",
   "language": "python",
   "name": "python3"
  },
  "language_info": {
   "codemirror_mode": {
    "name": "ipython",
    "version": 3
   },
   "file_extension": ".py",
   "mimetype": "text/x-python",
   "name": "python",
   "nbconvert_exporter": "python",
   "pygments_lexer": "ipython3",
   "version": "3.8.8"
  },
  "orig_nbformat": 4
 },
 "nbformat": 4,
 "nbformat_minor": 2
}
