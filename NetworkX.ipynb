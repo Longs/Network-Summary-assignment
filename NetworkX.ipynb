{
 "cells": [
  {
   "cell_type": "code",
   "execution_count": 2,
   "metadata": {},
   "outputs": [
    {
     "name": "stdout",
     "output_type": "stream",
     "text": [
      "-0.2041420118343195\n"
     ]
    }
   ],
   "source": [
    "#Undirected \n",
    "import networkx as nx\n",
    "import numpy as np\n",
    "\n",
    "A=\t[[0, 1, 0, 1, 0, 1, 0, 0, 0, 0],\n",
    "\t[1, 0, 1, 1, 1, 0, 0, 0, 0, 0],\n",
    "\t[0, 1, 0, 0, 0, 0, 0, 0, 0, 0],\n",
    "\t[1, 1, 0, 0, 0, 1, 0, 1, 1, 0],\n",
    "\t[0, 1, 0, 0, 0, 0, 0, 0, 1, 1],\n",
    "\t[1, 0, 0, 1, 0, 0, 0, 0, 0, 0],\n",
    "\t[0, 0, 0, 0, 0, 0, 0, 0, 0, 1],\n",
    "\t[0, 0, 0, 1, 0, 0, 0, 0, 0, 0],\n",
    "\t[0, 0, 0, 1, 1, 0, 0, 0, 0, 1],\n",
    "\t[0, 0, 0, 0, 1, 0, 1, 0, 1, 0]]\n",
    "\n",
    "A = np.array(A)\n",
    "\n",
    "G = nx.convert_matrix.from_numpy_matrix(A)\n",
    "\n",
    "set_1 = {0,2,4,6,8}\n",
    "set_2 = {1,3,5,7,9}\n",
    "\n",
    "out = nx.algorithms.community.modularity(G,[set_1,set_2])\n",
    "print(out)\n"
   ]
  },
  {
   "cell_type": "code",
   "execution_count": 19,
   "metadata": {},
   "outputs": [
    {
     "name": "stdout",
     "output_type": "stream",
     "text": [
      "[ 0  0  0 ... 99 99 99]\n",
      "[ 3 10 12 ... 77 81 85]\n",
      "no of nodes 100\n",
      "no of edges 1030\n",
      "no of edges 1030\n",
      "no of nodes 100\n",
      "number of self_loops: 8\n",
      "Graph has cycles: [0, 96, 58, 79, 85, 98, 95, 91, 83, 94, 74, 97, 99, 81, 78, 67, 87, 92, 88, 93, 89, 59, 80, 90, 62, 73, 61, 46, 69, 77, 45, 86, 84, 76, 64, 53, 56, 63, 82, 65, 72, 66, 70, 60, 43, 68, 48, 75, 36, 71, 33, 52, 57, 50, 23, 30, 24, 35, 34, 49, 38, 39, 51, 18, 44, 47, 42, 26, 20, 29]\n"
     ]
    }
   ],
   "source": [
    "#directed\n",
    "from scipy.sparse import coo_matrix\n",
    "\n",
    "cell_index = np.genfromtxt(\"release_directed_graph.txt\",delimiter=\" \",dtype=int)\n",
    "\n",
    "#NO to construct a coo matrix you need data, [row indices]\n",
    "data = np.ones(len(cell_index))\n",
    "\n",
    "row = cell_index[:,0]\n",
    "col = cell_index[:,1]\n",
    "print(row)\n",
    "print(col)\n",
    "\n",
    "sparse_matrix = coo_matrix((data,(row,col))).tocsr()\n",
    "#sparse_matrix = coo_matrix(data,(row,col)).tocsr()\n",
    "#print(sparse_matrix.shape)\n",
    "print(f\"no of nodes {sparse_matrix.shape[0]}\")\n",
    "print(f\"no of edges {sparse_matrix.count_nonzero()}\")\n",
    "#This is a directed graph so need to specify create_using\n",
    "G=nx.convert_matrix.from_scipy_sparse_matrix(sparse_matrix,create_using=nx.DiGraph)\n",
    "print(f\"no of edges {G.number_of_edges()}\")\n",
    "print(f\"no of nodes {G.number_of_nodes()}\")\n",
    "print(f\"number of self_loops: {nx.function.number_of_selfloops(G)}\")\n",
    "cycle_generator = nx.cycles.simple_cycles(G)\n",
    "#print(f\"number of cycles {list(nx.cycles.simple_cycles(G))}\")\n",
    "\n",
    "\n",
    "\n",
    "try:\n",
    "    while True:\n",
    "        c = next(cycle_generator)\n",
    "        if len(c) > 1:\n",
    "            print(f\"Graph has cycles: {c}\")\n",
    "            break\n",
    "        #print(c)\n",
    "\n",
    "except:\n",
    "    print(\"no cycles found\")"
   ]
  }
 ],
 "metadata": {
  "interpreter": {
   "hash": "5ed39076ecfbffa891efe79264807416f295022aa7d1a440cb7ae539f3f89c6d"
  },
  "kernelspec": {
   "display_name": "Python 3.8.8 64-bit ('PandasNumpyMathplotlib': conda)",
   "language": "python",
   "name": "python3"
  },
  "language_info": {
   "codemirror_mode": {
    "name": "ipython",
    "version": 3
   },
   "file_extension": ".py",
   "mimetype": "text/x-python",
   "name": "python",
   "nbconvert_exporter": "python",
   "pygments_lexer": "ipython3",
   "version": "3.8.8"
  },
  "orig_nbformat": 4
 },
 "nbformat": 4,
 "nbformat_minor": 2
}
